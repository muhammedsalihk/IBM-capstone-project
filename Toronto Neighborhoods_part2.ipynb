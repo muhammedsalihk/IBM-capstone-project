{
    "cells": [
        {
            "cell_type": "markdown",
            "metadata": {},
            "source": "# Exercise - Part 1"
        },
        {
            "cell_type": "markdown",
            "metadata": {
                "collapsed": true
            },
            "source": "### Here we will do the cleaning of the data during the scraping operation itself. We will remove the postal codes with no boroughs assigned and also do all the required formattings."
        },
        {
            "cell_type": "code",
            "execution_count": 17,
            "metadata": {},
            "outputs": [],
            "source": "from bs4 import BeautifulSoup\nimport requests\nimport csv\nsource = requests.get('https://en.wikipedia.org/wiki/List_of_postal_codes_of_Canada:_M').text\nsoup = BeautifulSoup(source, 'lxml')\ntable = soup.find('table')\ntbody = table.find('tbody')\n\ncsv_file = open('canada_ps.csv', 'w')\ncsv_writer = csv.writer(csv_file)\ncsv_writer.writerow(['PostalCode', 'Borough', 'Neighborhood'])\n\nfor tr in tbody.find_all('tr')[1:]:\n    post = tr.find_all('td')[0].text.strip()\n    borough = tr.find_all('td')[1].text.strip()\n    neighborhood = tr.find_all('td')[2].text.strip()\n    if borough != 'Not assigned':\n        if (len(neighborhood.strip()) == 0):\n            neighborhood = borough\n        try:\n            neighborhood = neighborhood.replace(\" /\",\",\")\n        except:\n            pass\n        csv_writer.writerow([post, borough, neighborhood])\n        \ncsv_file.close()"
        },
        {
            "cell_type": "markdown",
            "metadata": {},
            "source": "Now, we have the formatted data stored in the csv file. Let us now import the data as a pandas data frame"
        },
        {
            "cell_type": "code",
            "execution_count": 49,
            "metadata": {},
            "outputs": [],
            "source": "import pandas as pd\ndf = pd.read_csv('canada_ps.csv')"
        },
        {
            "cell_type": "code",
            "execution_count": 50,
            "metadata": {},
            "outputs": [
                {
                    "data": {
                        "text/html": "<div>\n<style scoped>\n    .dataframe tbody tr th:only-of-type {\n        vertical-align: middle;\n    }\n\n    .dataframe tbody tr th {\n        vertical-align: top;\n    }\n\n    .dataframe thead th {\n        text-align: right;\n    }\n</style>\n<table border=\"1\" class=\"dataframe\">\n  <thead>\n    <tr style=\"text-align: right;\">\n      <th></th>\n      <th>PostalCode</th>\n      <th>Borough</th>\n      <th>Neighborhood</th>\n    </tr>\n  </thead>\n  <tbody>\n    <tr>\n      <th>0</th>\n      <td>M3A</td>\n      <td>North York</td>\n      <td>Parkwoods</td>\n    </tr>\n    <tr>\n      <th>1</th>\n      <td>M4A</td>\n      <td>North York</td>\n      <td>Victoria Village</td>\n    </tr>\n    <tr>\n      <th>2</th>\n      <td>M5A</td>\n      <td>Downtown Toronto</td>\n      <td>Regent Park, Harbourfront</td>\n    </tr>\n    <tr>\n      <th>3</th>\n      <td>M6A</td>\n      <td>North York</td>\n      <td>Lawrence Manor, Lawrence Heights</td>\n    </tr>\n    <tr>\n      <th>4</th>\n      <td>M7A</td>\n      <td>Downtown Toronto</td>\n      <td>Queen's Park, Ontario Provincial Government</td>\n    </tr>\n  </tbody>\n</table>\n</div>",
                        "text/plain": "  PostalCode           Borough                                 Neighborhood\n0        M3A        North York                                    Parkwoods\n1        M4A        North York                             Victoria Village\n2        M5A  Downtown Toronto                    Regent Park, Harbourfront\n3        M6A        North York             Lawrence Manor, Lawrence Heights\n4        M7A  Downtown Toronto  Queen's Park, Ontario Provincial Government"
                    },
                    "execution_count": 50,
                    "metadata": {},
                    "output_type": "execute_result"
                }
            ],
            "source": "df.head()"
        },
        {
            "cell_type": "code",
            "execution_count": 51,
            "metadata": {},
            "outputs": [
                {
                    "data": {
                        "text/plain": "(103, 3)"
                    },
                    "execution_count": 51,
                    "metadata": {},
                    "output_type": "execute_result"
                }
            ],
            "source": "df.shape"
        },
        {
            "cell_type": "markdown",
            "metadata": {},
            "source": "Now, let us add the latitudes and longitudes using the geocorder package"
        },
        {
            "cell_type": "markdown",
            "metadata": {},
            "source": "Tried to use the geocorder package, but it is taking a lot of time to fetch the locations. So let us use the provided link to get the location data"
        },
        {
            "cell_type": "code",
            "execution_count": 43,
            "metadata": {},
            "outputs": [
                {
                    "name": "stdout",
                    "output_type": "stream",
                    "text": "--2020-04-24 12:41:29--  http://cocl.us/Geospatial_data\nResolving cocl.us (cocl.us)... 159.8.69.21, 159.8.72.228, 159.8.69.24\nConnecting to cocl.us (cocl.us)|159.8.69.21|:80... connected.\nHTTP request sent, awaiting response... 301 Moved Permanently\nLocation: https://cocl.us/Geospatial_data [following]\n--2020-04-24 12:41:29--  https://cocl.us/Geospatial_data\nConnecting to cocl.us (cocl.us)|159.8.69.21|:443... connected.\nHTTP request sent, awaiting response... 301 Moved Permanently\nLocation: https://ibm.box.com/shared/static/9afzr83pps4pwf2smjjcf1y5mvgb18rr.csv [following]\n--2020-04-24 12:41:31--  https://ibm.box.com/shared/static/9afzr83pps4pwf2smjjcf1y5mvgb18rr.csv\nResolving ibm.box.com (ibm.box.com)... 107.152.26.197\nConnecting to ibm.box.com (ibm.box.com)|107.152.26.197|:443... connected.\nHTTP request sent, awaiting response... 301 Moved Permanently\nLocation: /public/static/9afzr83pps4pwf2smjjcf1y5mvgb18rr.csv [following]\n--2020-04-24 12:41:32--  https://ibm.box.com/public/static/9afzr83pps4pwf2smjjcf1y5mvgb18rr.csv\nReusing existing connection to ibm.box.com:443.\nHTTP request sent, awaiting response... 301 Moved Permanently\nLocation: https://ibm.ent.box.com/public/static/9afzr83pps4pwf2smjjcf1y5mvgb18rr.csv [following]\n--2020-04-24 12:41:32--  https://ibm.ent.box.com/public/static/9afzr83pps4pwf2smjjcf1y5mvgb18rr.csv\nResolving ibm.ent.box.com (ibm.ent.box.com)... 107.152.27.211, 107.152.26.211\nConnecting to ibm.ent.box.com (ibm.ent.box.com)|107.152.27.211|:443... connected.\nHTTP request sent, awaiting response... 302 Found\nLocation: https://public.boxcloud.com/d/1/b1!wp5tHe0FFJgjRBYySj-ejFzKk_UeLN2DMquz7cYa5FOTA4EdLgGgm17qFsWsj4vnZFRXXHhiyNlvjtbiOypK3LBB3jRgrEIHjegpYbuoC82teoxXgx6LxM0QK10eBM39UCF2jsDnWg0TCxkbRbcximFO7e7MGspoRez5k4a0aa0DhQrwwxwVclD0dZI1xzYemhp3In0pyPzVjNcBJO2bl1dgNXgtch9HthmzX12QrgApva5_dVaHkFFYsMYdMCzDS6kIDturGK1WC0E4g3ci16xLVyRzBVC4v5s-qG_cUUmUezI2ZgiOHAlf8IONeK_ygf-rIldqYST5wKaebA779ut7LBcPwu3Zvw6UCMnrdjvHhqoLc0IZrLjzrMm8PzFvlbPWcKRETCrj1PXgUF-QwTOpvixJIkfJdzNrlDi_XI_UWA0V9ACMfEZPAcshFlNp_8_B0HjdHHoJ52G2Op68HUAgkyy0XZUSD2anQycwolJujqITq7CBT8Soh3Qep4u-ZBdc8hBpWYg4z41VJAwNy6J6ZqU3ObaxVdRAdvJs5HKvrKM_coPIgDGpLdF0neGl6tCBFe0wj58j42WzsTW6GglVrGedtqTk7nSCFlDhFgzQk8t0uLvmSgnN-C-HnWgEPkqDMmaUcx5WcfaQ2IWUIBJhVkD3iWVg8LIOhSR-757ze_lbOg7pxAbFrh1dcXlK_kCRT8jDGYtf54gde7JV7mZHbG9B4jRtxdxH9_97aPTMgdt78yNgu7_OtPRzybkcXR0vPIXuUYl1E2bphrV1JbatLMQMdXNkvB6tzkJbYMg67ptvpyIfukwShV8Xvyk7bCivCh6qKqckqgNwn7eQFu2UlyWKc0bASmdLZ4ppfrtq5jnGpVOKAJZn7BqOWG56TyMKTEjokwuaDaIw3wBohKkVdU5Rd83m31FkFY6ieazz71no1rHaTtBKxQFQ0VlO0AMN4iBVSDE_Yva3V2S1Jne3tkz-GfM5pHeWDZvIJAKaOW2V1ScxpsGR2L49YACdtz-k8eRzPHiV9lKsUVd_o8McdFx0jYjR6yMKT1NREuiFrmANBApySCA8Wk8xqhTWYHoWBg9C6I1y-Ie6rQe8zPy-Vi-g5PeLwqjXXefjANxMvzVYEFZ1lyQaR6oQDm669iHXYwEWwdKK1SWjEQOUrWvU9mhb6i8bwGfuhOD6abdigTnpa7NC1Req4nNgdwMpfHmslInQ93dwG8sZkLxQbzAV9vWlkmxJiDr9CBHEno6wFDoaLlQ_6aYnLkEjlGmrsCoZxNcqLIZnGMOBZJv4uzTD6bbayacNXt0NOVzimhmY5HFpt3Bv8umGLDrbB6fBYLwWrmhN8Kq7pqyM5rSdRyZfxh493fYw9zashzCc_zx8L-WKnfJGVzye_uopGKdUpY-JRCc6T7Kan5gysuCLTpsk3ADzykK8GwISlgCAMujK6Q../download [following]\n--2020-04-24 12:41:34--  https://public.boxcloud.com/d/1/b1!wp5tHe0FFJgjRBYySj-ejFzKk_UeLN2DMquz7cYa5FOTA4EdLgGgm17qFsWsj4vnZFRXXHhiyNlvjtbiOypK3LBB3jRgrEIHjegpYbuoC82teoxXgx6LxM0QK10eBM39UCF2jsDnWg0TCxkbRbcximFO7e7MGspoRez5k4a0aa0DhQrwwxwVclD0dZI1xzYemhp3In0pyPzVjNcBJO2bl1dgNXgtch9HthmzX12QrgApva5_dVaHkFFYsMYdMCzDS6kIDturGK1WC0E4g3ci16xLVyRzBVC4v5s-qG_cUUmUezI2ZgiOHAlf8IONeK_ygf-rIldqYST5wKaebA779ut7LBcPwu3Zvw6UCMnrdjvHhqoLc0IZrLjzrMm8PzFvlbPWcKRETCrj1PXgUF-QwTOpvixJIkfJdzNrlDi_XI_UWA0V9ACMfEZPAcshFlNp_8_B0HjdHHoJ52G2Op68HUAgkyy0XZUSD2anQycwolJujqITq7CBT8Soh3Qep4u-ZBdc8hBpWYg4z41VJAwNy6J6ZqU3ObaxVdRAdvJs5HKvrKM_coPIgDGpLdF0neGl6tCBFe0wj58j42WzsTW6GglVrGedtqTk7nSCFlDhFgzQk8t0uLvmSgnN-C-HnWgEPkqDMmaUcx5WcfaQ2IWUIBJhVkD3iWVg8LIOhSR-757ze_lbOg7pxAbFrh1dcXlK_kCRT8jDGYtf54gde7JV7mZHbG9B4jRtxdxH9_97aPTMgdt78yNgu7_OtPRzybkcXR0vPIXuUYl1E2bphrV1JbatLMQMdXNkvB6tzkJbYMg67ptvpyIfukwShV8Xvyk7bCivCh6qKqckqgNwn7eQFu2UlyWKc0bASmdLZ4ppfrtq5jnGpVOKAJZn7BqOWG56TyMKTEjokwuaDaIw3wBohKkVdU5Rd83m31FkFY6ieazz71no1rHaTtBKxQFQ0VlO0AMN4iBVSDE_Yva3V2S1Jne3tkz-GfM5pHeWDZvIJAKaOW2V1ScxpsGR2L49YACdtz-k8eRzPHiV9lKsUVd_o8McdFx0jYjR6yMKT1NREuiFrmANBApySCA8Wk8xqhTWYHoWBg9C6I1y-Ie6rQe8zPy-Vi-g5PeLwqjXXefjANxMvzVYEFZ1lyQaR6oQDm669iHXYwEWwdKK1SWjEQOUrWvU9mhb6i8bwGfuhOD6abdigTnpa7NC1Req4nNgdwMpfHmslInQ93dwG8sZkLxQbzAV9vWlkmxJiDr9CBHEno6wFDoaLlQ_6aYnLkEjlGmrsCoZxNcqLIZnGMOBZJv4uzTD6bbayacNXt0NOVzimhmY5HFpt3Bv8umGLDrbB6fBYLwWrmhN8Kq7pqyM5rSdRyZfxh493fYw9zashzCc_zx8L-WKnfJGVzye_uopGKdUpY-JRCc6T7Kan5gysuCLTpsk3ADzykK8GwISlgCAMujK6Q../download\nResolving public.boxcloud.com (public.boxcloud.com)... 185.235.236.200\nConnecting to public.boxcloud.com (public.boxcloud.com)|185.235.236.200|:443... connected.\nHTTP request sent, awaiting response... 200 OK\nLength: 2891 (2.8K) [text/csv]\nSaving to: \u2018canada_loc.csv\u2019\n\n100%[======================================>] 2,891       --.-K/s   in 0s      \n\n2020-04-24 12:41:34 (265 MB/s) - \u2018canada_loc.csv\u2019 saved [2891/2891]\n\n"
                }
            ],
            "source": "!wget -O canada_loc.csv http://cocl.us/Geospatial_data"
        },
        {
            "cell_type": "code",
            "execution_count": 44,
            "metadata": {},
            "outputs": [],
            "source": "df_loc = pd.read_csv('canada_loc.csv')"
        },
        {
            "cell_type": "code",
            "execution_count": 45,
            "metadata": {},
            "outputs": [
                {
                    "data": {
                        "text/html": "<div>\n<style scoped>\n    .dataframe tbody tr th:only-of-type {\n        vertical-align: middle;\n    }\n\n    .dataframe tbody tr th {\n        vertical-align: top;\n    }\n\n    .dataframe thead th {\n        text-align: right;\n    }\n</style>\n<table border=\"1\" class=\"dataframe\">\n  <thead>\n    <tr style=\"text-align: right;\">\n      <th></th>\n      <th>Postal Code</th>\n      <th>Latitude</th>\n      <th>Longitude</th>\n    </tr>\n  </thead>\n  <tbody>\n    <tr>\n      <th>0</th>\n      <td>M1B</td>\n      <td>43.806686</td>\n      <td>-79.194353</td>\n    </tr>\n    <tr>\n      <th>1</th>\n      <td>M1C</td>\n      <td>43.784535</td>\n      <td>-79.160497</td>\n    </tr>\n    <tr>\n      <th>2</th>\n      <td>M1E</td>\n      <td>43.763573</td>\n      <td>-79.188711</td>\n    </tr>\n    <tr>\n      <th>3</th>\n      <td>M1G</td>\n      <td>43.770992</td>\n      <td>-79.216917</td>\n    </tr>\n    <tr>\n      <th>4</th>\n      <td>M1H</td>\n      <td>43.773136</td>\n      <td>-79.239476</td>\n    </tr>\n  </tbody>\n</table>\n</div>",
                        "text/plain": "  Postal Code   Latitude  Longitude\n0         M1B  43.806686 -79.194353\n1         M1C  43.784535 -79.160497\n2         M1E  43.763573 -79.188711\n3         M1G  43.770992 -79.216917\n4         M1H  43.773136 -79.239476"
                    },
                    "execution_count": 45,
                    "metadata": {},
                    "output_type": "execute_result"
                }
            ],
            "source": "df_loc.head()"
        },
        {
            "cell_type": "code",
            "execution_count": 54,
            "metadata": {},
            "outputs": [
                {
                    "data": {
                        "text/html": "<div>\n<style scoped>\n    .dataframe tbody tr th:only-of-type {\n        vertical-align: middle;\n    }\n\n    .dataframe tbody tr th {\n        vertical-align: top;\n    }\n\n    .dataframe thead th {\n        text-align: right;\n    }\n</style>\n<table border=\"1\" class=\"dataframe\">\n  <thead>\n    <tr style=\"text-align: right;\">\n      <th></th>\n      <th>PostalCode</th>\n      <th>Borough</th>\n      <th>Neighborhood</th>\n      <th>Latitude</th>\n      <th>Longitude</th>\n    </tr>\n  </thead>\n  <tbody>\n    <tr>\n      <th>0</th>\n      <td>M3A</td>\n      <td>North York</td>\n      <td>Parkwoods</td>\n      <td>43.753259</td>\n      <td>-79.329656</td>\n    </tr>\n    <tr>\n      <th>1</th>\n      <td>M4A</td>\n      <td>North York</td>\n      <td>Victoria Village</td>\n      <td>43.725882</td>\n      <td>-79.315572</td>\n    </tr>\n    <tr>\n      <th>2</th>\n      <td>M5A</td>\n      <td>Downtown Toronto</td>\n      <td>Regent Park, Harbourfront</td>\n      <td>43.654260</td>\n      <td>-79.360636</td>\n    </tr>\n    <tr>\n      <th>3</th>\n      <td>M6A</td>\n      <td>North York</td>\n      <td>Lawrence Manor, Lawrence Heights</td>\n      <td>43.718518</td>\n      <td>-79.464763</td>\n    </tr>\n    <tr>\n      <th>4</th>\n      <td>M7A</td>\n      <td>Downtown Toronto</td>\n      <td>Queen's Park, Ontario Provincial Government</td>\n      <td>43.662301</td>\n      <td>-79.389494</td>\n    </tr>\n    <tr>\n      <th>5</th>\n      <td>M9A</td>\n      <td>Etobicoke</td>\n      <td>Islington Avenue</td>\n      <td>43.667856</td>\n      <td>-79.532242</td>\n    </tr>\n    <tr>\n      <th>6</th>\n      <td>M1B</td>\n      <td>Scarborough</td>\n      <td>Malvern, Rouge</td>\n      <td>43.806686</td>\n      <td>-79.194353</td>\n    </tr>\n    <tr>\n      <th>7</th>\n      <td>M3B</td>\n      <td>North York</td>\n      <td>Don Mills</td>\n      <td>43.745906</td>\n      <td>-79.352188</td>\n    </tr>\n    <tr>\n      <th>8</th>\n      <td>M4B</td>\n      <td>East York</td>\n      <td>Parkview Hill, Woodbine Gardens</td>\n      <td>43.706397</td>\n      <td>-79.309937</td>\n    </tr>\n    <tr>\n      <th>9</th>\n      <td>M5B</td>\n      <td>Downtown Toronto</td>\n      <td>Garden District, Ryerson</td>\n      <td>43.657162</td>\n      <td>-79.378937</td>\n    </tr>\n  </tbody>\n</table>\n</div>",
                        "text/plain": "  PostalCode           Borough                                 Neighborhood  \\\n0        M3A        North York                                    Parkwoods   \n1        M4A        North York                             Victoria Village   \n2        M5A  Downtown Toronto                    Regent Park, Harbourfront   \n3        M6A        North York             Lawrence Manor, Lawrence Heights   \n4        M7A  Downtown Toronto  Queen's Park, Ontario Provincial Government   \n5        M9A         Etobicoke                             Islington Avenue   \n6        M1B       Scarborough                               Malvern, Rouge   \n7        M3B        North York                                    Don Mills   \n8        M4B         East York              Parkview Hill, Woodbine Gardens   \n9        M5B  Downtown Toronto                     Garden District, Ryerson   \n\n    Latitude  Longitude  \n0  43.753259 -79.329656  \n1  43.725882 -79.315572  \n2  43.654260 -79.360636  \n3  43.718518 -79.464763  \n4  43.662301 -79.389494  \n5  43.667856 -79.532242  \n6  43.806686 -79.194353  \n7  43.745906 -79.352188  \n8  43.706397 -79.309937  \n9  43.657162 -79.378937  "
                    },
                    "execution_count": 54,
                    "metadata": {},
                    "output_type": "execute_result"
                }
            ],
            "source": "df_loc.rename(columns = {'Postal Code':'PostalCode'}, inplace = True)\ndf_merged = df.merge(df_loc, on='PostalCode', how='left')\ndf_merged.head(10)"
        }
    ],
    "metadata": {
        "kernelspec": {
            "display_name": "Python 3.6",
            "language": "python",
            "name": "python3"
        },
        "language_info": {
            "codemirror_mode": {
                "name": "ipython",
                "version": 3
            },
            "file_extension": ".py",
            "mimetype": "text/x-python",
            "name": "python",
            "nbconvert_exporter": "python",
            "pygments_lexer": "ipython3",
            "version": "3.6.9"
        }
    },
    "nbformat": 4,
    "nbformat_minor": 1
}